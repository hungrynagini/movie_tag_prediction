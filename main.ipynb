{
  "nbformat": 4,
  "nbformat_minor": 0,
  "metadata": {
    "colab": {
      "name": "ghhh.ipynb",
      "provenance": [],
      "collapsed_sections": [],
      "machine_shape": "hm",
      "include_colab_link": true
    },
    "kernelspec": {
      "name": "python3",
      "display_name": "Python 3"
    },
    "accelerator": "GPU"
  },
  "cells": [
    {
      "cell_type": "markdown",
      "metadata": {
        "id": "view-in-github",
        "colab_type": "text"
      },
      "source": [
        "<a href=\"https://colab.research.google.com/github/hungrynagini/movie_tag_prediction/blob/master/main.ipynb\" target=\"_parent\"><img src=\"https://colab.research.google.com/assets/colab-badge.svg\" alt=\"Open In Colab\"/></a>"
      ]
    },
    {
      "cell_type": "code",
      "metadata": {
        "id": "7nMMKdi6AkEF",
        "colab_type": "code",
        "colab": {}
      },
      "source": [
        "import os\n",
        "import json\n",
        "import numpy as np\n",
        "import pandas as pd\n",
        "import matplotlib.pyplot as plt\n",
        "from scipy import stats\n",
        "from scipy import spatial\n",
        "from sklearn.feature_extraction.text import CountVectorizer\n",
        "from sklearn.feature_extraction import text"
      ],
      "execution_count": 0,
      "outputs": []
    },
    {
      "cell_type": "markdown",
      "metadata": {
        "id": "_nLhp3rBGJGM",
        "colab_type": "text"
      },
      "source": [
        ""
      ]
    },
    {
      "cell_type": "code",
      "metadata": {
        "id": "k2YN3bph6oPW",
        "colab_type": "code",
        "colab": {
          "base_uri": "https://localhost:8080/",
          "height": 51
        },
        "outputId": "ebfb0792-4b4e-45b2-9c8f-a37849d1af7d"
      },
      "source": [
        "directory = \"/content/drive/My Drive/Colab Notebooks/ai/\"\n",
        "metadata = pd.read_csv(directory+'movies_metadata.csv')\n",
        "keywords = pd.read_csv(directory+'keywords.csv')\n",
        "plots = pd.read_csv(directory+'movie_plots.csv')\n",
        "top_keywords = 30"
      ],
      "execution_count": 6,
      "outputs": [
        {
          "output_type": "stream",
          "text": [
            "/usr/local/lib/python3.6/dist-packages/IPython/core/interactiveshell.py:2718: DtypeWarning: Columns (10) have mixed types. Specify dtype option on import or set low_memory=False.\n",
            "  interactivity=interactivity, compiler=compiler, result=result)\n"
          ],
          "name": "stderr"
        }
      ]
    },
    {
      "cell_type": "code",
      "metadata": {
        "id": "To11gjxcUlho",
        "colab_type": "code",
        "colab": {}
      },
      "source": [
        "# from google.colab import drive\n",
        "# drive.mount('/content/drive')"
      ],
      "execution_count": 0,
      "outputs": []
    },
    {
      "cell_type": "code",
      "metadata": {
        "id": "Vh-TrgmudFnu",
        "colab_type": "code",
        "colab": {}
      },
      "source": [
        "def get_stop_words(stop_file_path,comma):\n",
        "    with open(stop_file_path, 'r', encoding=\"utf-8\") as f:\n",
        "        if comma:\n",
        "            stopwords = f.readlines()[0].split(',')\n",
        "        else:\n",
        "            stopwords = f.readlines()\n",
        "        print(len(stopwords))\n",
        "        stop_set = set(m.strip().lower() for m in stopwords)\n",
        "        return frozenset(stop_set)\n",
        "\n",
        "def try_load(row):\n",
        "    try:\n",
        "        jsonparse = json.loads(row)\n",
        "        return jsonparse\n",
        "    except Exception as e:\n",
        "        return []\n",
        "\n",
        "def sort_coo(coo_matrix):\n",
        "    tuples = zip(coo_matrix.col, coo_matrix.data)\n",
        "    return sorted(tuples, key=lambda x: (x[1], x[0]), reverse=True)\n",
        " \n",
        "def extract_topn_from_vector(feature_names, sorted_items, topn=10):\n",
        "    \"\"\"get the feature names and tf-idf score of top n items\"\"\"\n",
        "    \n",
        "    #use only topn items from vector\n",
        "    sorted_items = sorted_items[:topn]\n",
        " \n",
        "    score_vals = []\n",
        "    feature_vals = []\n",
        "    \n",
        "    # word index and corresponding tf-idf score\n",
        "    for idx, score in sorted_items:\n",
        "        \n",
        "        #keep track of feature name and its corresponding score\n",
        "        score_vals.append(round(score, 3))\n",
        "        feature_vals.append(feature_names[idx])\n",
        " \n",
        "    #create a tuples of feature,score\n",
        "    #results = zip(feature_vals,score_vals)\n",
        "    results= {}\n",
        "    for idx in range(len(feature_vals)):\n",
        "        results[feature_vals[idx]]=score_vals[idx]\n",
        "    return results"
      ],
      "execution_count": 0,
      "outputs": []
    },
    {
      "cell_type": "code",
      "metadata": {
        "id": "_C2dBdpBNNZY",
        "colab_type": "code",
        "colab": {
          "base_uri": "https://localhost:8080/",
          "height": 318
        },
        "outputId": "19cdf04b-3e5e-4a6c-ca18-64c9b0df90ef"
      },
      "source": [
        "metadata[:2]"
      ],
      "execution_count": 9,
      "outputs": [
        {
          "output_type": "execute_result",
          "data": {
            "text/html": [
              "<div>\n",
              "<style scoped>\n",
              "    .dataframe tbody tr th:only-of-type {\n",
              "        vertical-align: middle;\n",
              "    }\n",
              "\n",
              "    .dataframe tbody tr th {\n",
              "        vertical-align: top;\n",
              "    }\n",
              "\n",
              "    .dataframe thead th {\n",
              "        text-align: right;\n",
              "    }\n",
              "</style>\n",
              "<table border=\"1\" class=\"dataframe\">\n",
              "  <thead>\n",
              "    <tr style=\"text-align: right;\">\n",
              "      <th></th>\n",
              "      <th>adult</th>\n",
              "      <th>belongs_to_collection</th>\n",
              "      <th>budget</th>\n",
              "      <th>genres</th>\n",
              "      <th>homepage</th>\n",
              "      <th>id</th>\n",
              "      <th>imdb_id</th>\n",
              "      <th>original_language</th>\n",
              "      <th>original_title</th>\n",
              "      <th>overview</th>\n",
              "      <th>popularity</th>\n",
              "      <th>poster_path</th>\n",
              "      <th>production_companies</th>\n",
              "      <th>production_countries</th>\n",
              "      <th>release_date</th>\n",
              "      <th>revenue</th>\n",
              "      <th>runtime</th>\n",
              "      <th>spoken_languages</th>\n",
              "      <th>status</th>\n",
              "      <th>tagline</th>\n",
              "      <th>title</th>\n",
              "      <th>video</th>\n",
              "      <th>vote_average</th>\n",
              "      <th>vote_count</th>\n",
              "    </tr>\n",
              "  </thead>\n",
              "  <tbody>\n",
              "    <tr>\n",
              "      <th>0</th>\n",
              "      <td>False</td>\n",
              "      <td>{'id': 10194, 'name': 'Toy Story Collection', ...</td>\n",
              "      <td>30000000</td>\n",
              "      <td>[{'id': 16, 'name': 'Animation'}, {'id': 35, '...</td>\n",
              "      <td>http://toystory.disney.com/toy-story</td>\n",
              "      <td>862</td>\n",
              "      <td>tt0114709</td>\n",
              "      <td>en</td>\n",
              "      <td>Toy Story</td>\n",
              "      <td>Led by Woody, Andy's toys live happily in his ...</td>\n",
              "      <td>21.9469</td>\n",
              "      <td>/rhIRbceoE9lR4veEXuwCC2wARtG.jpg</td>\n",
              "      <td>[{'name': 'Pixar Animation Studios', 'id': 3}]</td>\n",
              "      <td>[{'iso_3166_1': 'US', 'name': 'United States o...</td>\n",
              "      <td>1995-10-30</td>\n",
              "      <td>373554033.0</td>\n",
              "      <td>81.0</td>\n",
              "      <td>[{'iso_639_1': 'en', 'name': 'English'}]</td>\n",
              "      <td>Released</td>\n",
              "      <td>NaN</td>\n",
              "      <td>Toy Story</td>\n",
              "      <td>False</td>\n",
              "      <td>7.7</td>\n",
              "      <td>5415.0</td>\n",
              "    </tr>\n",
              "    <tr>\n",
              "      <th>1</th>\n",
              "      <td>False</td>\n",
              "      <td>NaN</td>\n",
              "      <td>65000000</td>\n",
              "      <td>[{'id': 12, 'name': 'Adventure'}, {'id': 14, '...</td>\n",
              "      <td>NaN</td>\n",
              "      <td>8844</td>\n",
              "      <td>tt0113497</td>\n",
              "      <td>en</td>\n",
              "      <td>Jumanji</td>\n",
              "      <td>When siblings Judy and Peter discover an encha...</td>\n",
              "      <td>17.0155</td>\n",
              "      <td>/vzmL6fP7aPKNKPRTFnZmiUfciyV.jpg</td>\n",
              "      <td>[{'name': 'TriStar Pictures', 'id': 559}, {'na...</td>\n",
              "      <td>[{'iso_3166_1': 'US', 'name': 'United States o...</td>\n",
              "      <td>1995-12-15</td>\n",
              "      <td>262797249.0</td>\n",
              "      <td>104.0</td>\n",
              "      <td>[{'iso_639_1': 'en', 'name': 'English'}, {'iso...</td>\n",
              "      <td>Released</td>\n",
              "      <td>Roll the dice and unleash the excitement!</td>\n",
              "      <td>Jumanji</td>\n",
              "      <td>False</td>\n",
              "      <td>6.9</td>\n",
              "      <td>2413.0</td>\n",
              "    </tr>\n",
              "  </tbody>\n",
              "</table>\n",
              "</div>"
            ],
            "text/plain": [
              "   adult  ... vote_count\n",
              "0  False  ...     5415.0\n",
              "1  False  ...     2413.0\n",
              "\n",
              "[2 rows x 24 columns]"
            ]
          },
          "metadata": {
            "tags": []
          },
          "execution_count": 9
        }
      ]
    },
    {
      "cell_type": "code",
      "metadata": {
        "id": "gvJaiP4R6oab",
        "colab_type": "code",
        "colab": {}
      },
      "source": [
        "plots = plots[['Release Year','Title','Plot']]\n",
        "metadata = metadata[['original_title','title','overview','tagline','release_date','id']]\n",
        "metadata = metadata.apply(lambda x: x[['title','overview','tagline','release_date','id']] if type(x['title']) != float else\n",
        "                          x[['original_title','overview','tagline','release_date','id']],axis=1)\n",
        "metadata = metadata.fillna('0000')\n",
        "plots = plots.fillna('0000')\n",
        "metadata.release_date = metadata.release_date.apply(lambda x: x[:4])\n",
        "metadata.release_date = metadata.release_date.astype(\"int64\")"
      ],
      "execution_count": 0,
      "outputs": []
    },
    {
      "cell_type": "code",
      "metadata": {
        "id": "UJTs17ew6oiT",
        "colab_type": "code",
        "colab": {}
      },
      "source": [
        "plots = plots.rename(columns={\"Title\": \"title\", \"Release Year\": \"release_date\"})\n",
        "metadata.title = metadata.title.apply(lambda x: ''.join(e for e in x if e.isalnum()).lower())\n",
        "plots.title = plots.title.apply(lambda x: ''.join(e for e in x if e.isalnum()).lower())"
      ],
      "execution_count": 0,
      "outputs": []
    },
    {
      "cell_type": "code",
      "metadata": {
        "id": "zfL5_PFj_xgl",
        "colab_type": "code",
        "colab": {
          "base_uri": "https://localhost:8080/",
          "height": 111
        },
        "outputId": "3b1d3aa2-bc19-414a-c541-0861b3989d73"
      },
      "source": [
        "metadata = metadata.merge(plots, how = 'left',on=['title', 'release_date'])\n",
        "metadata.sort_values(by=['title'])\n",
        "metadata = metadata.drop_duplicates(subset=[\"title\", \"release_date\"])\n",
        "metadata = metadata.fillna(\"\")\n",
        "metadata = metadata.replace(\"0000\",\"\")\n",
        "metadata[:2]"
      ],
      "execution_count": 12,
      "outputs": [
        {
          "output_type": "execute_result",
          "data": {
            "text/html": [
              "<div>\n",
              "<style scoped>\n",
              "    .dataframe tbody tr th:only-of-type {\n",
              "        vertical-align: middle;\n",
              "    }\n",
              "\n",
              "    .dataframe tbody tr th {\n",
              "        vertical-align: top;\n",
              "    }\n",
              "\n",
              "    .dataframe thead th {\n",
              "        text-align: right;\n",
              "    }\n",
              "</style>\n",
              "<table border=\"1\" class=\"dataframe\">\n",
              "  <thead>\n",
              "    <tr style=\"text-align: right;\">\n",
              "      <th></th>\n",
              "      <th>id</th>\n",
              "      <th>original_title</th>\n",
              "      <th>overview</th>\n",
              "      <th>release_date</th>\n",
              "      <th>tagline</th>\n",
              "      <th>title</th>\n",
              "      <th>Plot</th>\n",
              "    </tr>\n",
              "  </thead>\n",
              "  <tbody>\n",
              "    <tr>\n",
              "      <th>0</th>\n",
              "      <td>862</td>\n",
              "      <td></td>\n",
              "      <td>Led by Woody, Andy's toys live happily in his ...</td>\n",
              "      <td>1995</td>\n",
              "      <td></td>\n",
              "      <td>toystory</td>\n",
              "      <td>In a world where toys are living things who pr...</td>\n",
              "    </tr>\n",
              "    <tr>\n",
              "      <th>1</th>\n",
              "      <td>8844</td>\n",
              "      <td></td>\n",
              "      <td>When siblings Judy and Peter discover an encha...</td>\n",
              "      <td>1995</td>\n",
              "      <td>Roll the dice and unleash the excitement!</td>\n",
              "      <td>jumanji</td>\n",
              "      <td>In 1869, near Brantford, New Hampshire, two br...</td>\n",
              "    </tr>\n",
              "  </tbody>\n",
              "</table>\n",
              "</div>"
            ],
            "text/plain": [
              "     id  ...                                               Plot\n",
              "0   862  ...  In a world where toys are living things who pr...\n",
              "1  8844  ...  In 1869, near Brantford, New Hampshire, two br...\n",
              "\n",
              "[2 rows x 7 columns]"
            ]
          },
          "metadata": {
            "tags": []
          },
          "execution_count": 12
        }
      ]
    },
    {
      "cell_type": "code",
      "metadata": {
        "id": "fAn1VZQHDTQp",
        "colab_type": "code",
        "colab": {}
      },
      "source": [
        "metadata.Plot = metadata.Plot + metadata.overview + metadata.tagline\n",
        "metadata = metadata.drop(['original_title','release_date','overview','tagline'],axis=1)\n",
        "metadata.sort_values(by=['title'])\n",
        "metadata['length'] = metadata.Plot.apply(lambda x: len(x))\n",
        "metadata = metadata[metadata['length'] > 50]"
      ],
      "execution_count": 0,
      "outputs": []
    },
    {
      "cell_type": "code",
      "metadata": {
        "id": "Kc-4Pyd76H-Z",
        "colab_type": "code",
        "colab": {}
      },
      "source": [
        "metadata.id = metadata.id.astype(\"int64\")\n",
        "metadata = metadata.merge(keywords,on=['id'])"
      ],
      "execution_count": 0,
      "outputs": []
    },
    {
      "cell_type": "code",
      "metadata": {
        "id": "6A1eMN4ysFDg",
        "colab_type": "code",
        "colab": {
          "base_uri": "https://localhost:8080/",
          "height": 111
        },
        "outputId": "a6650fb0-0cbd-40b2-8f58-8bd96af04fc3"
      },
      "source": [
        "metadata[:2]"
      ],
      "execution_count": 15,
      "outputs": [
        {
          "output_type": "execute_result",
          "data": {
            "text/html": [
              "<div>\n",
              "<style scoped>\n",
              "    .dataframe tbody tr th:only-of-type {\n",
              "        vertical-align: middle;\n",
              "    }\n",
              "\n",
              "    .dataframe tbody tr th {\n",
              "        vertical-align: top;\n",
              "    }\n",
              "\n",
              "    .dataframe thead th {\n",
              "        text-align: right;\n",
              "    }\n",
              "</style>\n",
              "<table border=\"1\" class=\"dataframe\">\n",
              "  <thead>\n",
              "    <tr style=\"text-align: right;\">\n",
              "      <th></th>\n",
              "      <th>id</th>\n",
              "      <th>title</th>\n",
              "      <th>Plot</th>\n",
              "      <th>length</th>\n",
              "      <th>keywords</th>\n",
              "    </tr>\n",
              "  </thead>\n",
              "  <tbody>\n",
              "    <tr>\n",
              "      <th>0</th>\n",
              "      <td>862</td>\n",
              "      <td>toystory</td>\n",
              "      <td>In a world where toys are living things who pr...</td>\n",
              "      <td>3868</td>\n",
              "      <td>[{'id': 931, 'name': 'jealousy'}, {'id': 4290,...</td>\n",
              "    </tr>\n",
              "    <tr>\n",
              "      <th>1</th>\n",
              "      <td>8844</td>\n",
              "      <td>jumanji</td>\n",
              "      <td>In 1869, near Brantford, New Hampshire, two br...</td>\n",
              "      <td>4374</td>\n",
              "      <td>[{'id': 10090, 'name': 'board game'}, {'id': 1...</td>\n",
              "    </tr>\n",
              "  </tbody>\n",
              "</table>\n",
              "</div>"
            ],
            "text/plain": [
              "     id     title  ... length                                           keywords\n",
              "0   862  toystory  ...   3868  [{'id': 931, 'name': 'jealousy'}, {'id': 4290,...\n",
              "1  8844   jumanji  ...   4374  [{'id': 10090, 'name': 'board game'}, {'id': 1...\n",
              "\n",
              "[2 rows x 5 columns]"
            ]
          },
          "metadata": {
            "tags": []
          },
          "execution_count": 15
        }
      ]
    },
    {
      "cell_type": "code",
      "metadata": {
        "id": "X_c-g-ND6RVj",
        "colab_type": "code",
        "colab": {
          "base_uri": "https://localhost:8080/",
          "height": 111
        },
        "outputId": "c968aac8-bbf1-4bc8-a2f5-51044af82911"
      },
      "source": [
        "keyw = metadata.apply(lambda x: \";\".join([i['name']\n",
        "                          for i in try_load(x.keywords.replace(\"'\",\"\\\"\"))]) if \n",
        "                                                         len(x) > 2 and type(x) != float else 0,axis=1)\n",
        "metadata = metadata.assign(kwords=keyw.values)\n",
        "metadata = metadata[metadata.kwords != '']\n",
        "metadata.to_csv(\"merged_data.csv\")"
      ],
      "execution_count": 16,
      "outputs": [
        {
          "output_type": "execute_result",
          "data": {
            "text/html": [
              "<div>\n",
              "<style scoped>\n",
              "    .dataframe tbody tr th:only-of-type {\n",
              "        vertical-align: middle;\n",
              "    }\n",
              "\n",
              "    .dataframe tbody tr th {\n",
              "        vertical-align: top;\n",
              "    }\n",
              "\n",
              "    .dataframe thead th {\n",
              "        text-align: right;\n",
              "    }\n",
              "</style>\n",
              "<table border=\"1\" class=\"dataframe\">\n",
              "  <thead>\n",
              "    <tr style=\"text-align: right;\">\n",
              "      <th></th>\n",
              "      <th>id</th>\n",
              "      <th>title</th>\n",
              "      <th>Plot</th>\n",
              "      <th>length</th>\n",
              "      <th>keywords</th>\n",
              "      <th>kwords</th>\n",
              "    </tr>\n",
              "  </thead>\n",
              "  <tbody>\n",
              "    <tr>\n",
              "      <th>19</th>\n",
              "      <td>11517</td>\n",
              "      <td>moneytrain</td>\n",
              "      <td>On Christmas, we meet foster brothers John and...</td>\n",
              "      <td>6768</td>\n",
              "      <td>[{'id': 380, 'name': 'brother brother relation...</td>\n",
              "      <td>brother brother relationship;subway;new york c...</td>\n",
              "    </tr>\n",
              "    <tr>\n",
              "      <th>58</th>\n",
              "      <td>11359</td>\n",
              "      <td>theindianinthecupboard</td>\n",
              "      <td>On his ninth birthday, Omri receives an old cu...</td>\n",
              "      <td>8112</td>\n",
              "      <td>[{'id': 1990, 'name': 'cupboard'}, {'id': 6186...</td>\n",
              "      <td>cupboard;games;puppet;parallel world;toy comes...</td>\n",
              "    </tr>\n",
              "  </tbody>\n",
              "</table>\n",
              "</div>"
            ],
            "text/plain": [
              "       id  ...                                             kwords\n",
              "19  11517  ...  brother brother relationship;subway;new york c...\n",
              "58  11359  ...  cupboard;games;puppet;parallel world;toy comes...\n",
              "\n",
              "[2 rows x 6 columns]"
            ]
          },
          "metadata": {
            "tags": []
          },
          "execution_count": 16
        }
      ]
    },
    {
      "cell_type": "code",
      "metadata": {
        "id": "OrAjzkQmefYn",
        "colab_type": "code",
        "colab": {
          "base_uri": "https://localhost:8080/",
          "height": 419
        },
        "outputId": "9118aa82-e059-4e88-c599-39497d61d423"
      },
      "source": [
        "metadata = pd.read_csv(\"merged_data.csv\")\n",
        "metadata = metadata[metadata['length'] > 5200]\n",
        "metadata"
      ],
      "execution_count": 43,
      "outputs": [
        {
          "output_type": "execute_result",
          "data": {
            "text/html": [
              "<div>\n",
              "<style scoped>\n",
              "    .dataframe tbody tr th:only-of-type {\n",
              "        vertical-align: middle;\n",
              "    }\n",
              "\n",
              "    .dataframe tbody tr th {\n",
              "        vertical-align: top;\n",
              "    }\n",
              "\n",
              "    .dataframe thead th {\n",
              "        text-align: right;\n",
              "    }\n",
              "</style>\n",
              "<table border=\"1\" class=\"dataframe\">\n",
              "  <thead>\n",
              "    <tr style=\"text-align: right;\">\n",
              "      <th></th>\n",
              "      <th>Unnamed: 0</th>\n",
              "      <th>id</th>\n",
              "      <th>title</th>\n",
              "      <th>Plot</th>\n",
              "      <th>length</th>\n",
              "      <th>keywords</th>\n",
              "      <th>kwords</th>\n",
              "    </tr>\n",
              "  </thead>\n",
              "  <tbody>\n",
              "    <tr>\n",
              "      <th>3</th>\n",
              "      <td>4</td>\n",
              "      <td>11862</td>\n",
              "      <td>fatherofthebridepartii</td>\n",
              "      <td>The film begins five years after the events of...</td>\n",
              "      <td>5474</td>\n",
              "      <td>[{'id': 1009, 'name': 'baby'}, {'id': 1599, 'n...</td>\n",
              "      <td>baby;midlife crisis;confidence;aging;daughter;...</td>\n",
              "    </tr>\n",
              "    <tr>\n",
              "      <th>8</th>\n",
              "      <td>10</td>\n",
              "      <td>9087</td>\n",
              "      <td>theamericanpresident</td>\n",
              "      <td>Popular Democratic President Andrew Shepherd i...</td>\n",
              "      <td>5621</td>\n",
              "      <td>[{'id': 833, 'name': 'white house'}, {'id': 84...</td>\n",
              "      <td>white house;usa president;new love;widower;wil...</td>\n",
              "    </tr>\n",
              "    <tr>\n",
              "      <th>16</th>\n",
              "      <td>19</td>\n",
              "      <td>11517</td>\n",
              "      <td>moneytrain</td>\n",
              "      <td>On Christmas, we meet foster brothers John and...</td>\n",
              "      <td>6768</td>\n",
              "      <td>[{'id': 380, 'name': 'brother brother relation...</td>\n",
              "      <td>brother brother relationship;subway;new york c...</td>\n",
              "    </tr>\n",
              "    <tr>\n",
              "      <th>51</th>\n",
              "      <td>58</td>\n",
              "      <td>11359</td>\n",
              "      <td>theindianinthecupboard</td>\n",
              "      <td>On his ninth birthday, Omri receives an old cu...</td>\n",
              "      <td>8112</td>\n",
              "      <td>[{'id': 1990, 'name': 'cupboard'}, {'id': 6186...</td>\n",
              "      <td>cupboard;games;puppet;parallel world;toy comes...</td>\n",
              "    </tr>\n",
              "    <tr>\n",
              "      <th>79</th>\n",
              "      <td>90</td>\n",
              "      <td>12158</td>\n",
              "      <td>vampireinbrooklyn</td>\n",
              "      <td>An abandoned ship crashes into a dockyard in B...</td>\n",
              "      <td>6581</td>\n",
              "      <td>[{'id': 3133, 'name': 'vampire'}, {'id': 3630,...</td>\n",
              "      <td>vampire;half vampire</td>\n",
              "    </tr>\n",
              "    <tr>\n",
              "      <th>...</th>\n",
              "      <td>...</td>\n",
              "      <td>...</td>\n",
              "      <td>...</td>\n",
              "      <td>...</td>\n",
              "      <td>...</td>\n",
              "      <td>...</td>\n",
              "      <td>...</td>\n",
              "    </tr>\n",
              "    <tr>\n",
              "      <th>30087</th>\n",
              "      <td>43972</td>\n",
              "      <td>24230</td>\n",
              "      <td>nemesis</td>\n",
              "      <td>In the near future, illegal androids have beco...</td>\n",
              "      <td>5252</td>\n",
              "      <td>[{'id': 679, 'name': 'cyborg'}]</td>\n",
              "      <td>cyborg</td>\n",
              "    </tr>\n",
              "    <tr>\n",
              "      <th>30148</th>\n",
              "      <td>44126</td>\n",
              "      <td>302104</td>\n",
              "      <td>thatthingcalledtadhana</td>\n",
              "      <td>The film starts at an airport in Rome where Ma...</td>\n",
              "      <td>6086</td>\n",
              "      <td>[{'id': 6895, 'name': 'philippines'}, {'id': 4...</td>\n",
              "      <td>philippines;destiny;pinoy</td>\n",
              "    </tr>\n",
              "    <tr>\n",
              "      <th>30195</th>\n",
              "      <td>44199</td>\n",
              "      <td>336890</td>\n",
              "      <td>goonlastoftheenforcers</td>\n",
              "      <td>During a pro hockey lockout, Doug \"The Thug\" G...</td>\n",
              "      <td>5952</td>\n",
              "      <td>[{'id': 6483, 'name': 'ice hockey'}]</td>\n",
              "      <td>ice hockey</td>\n",
              "    </tr>\n",
              "    <tr>\n",
              "      <th>30536</th>\n",
              "      <td>44838</td>\n",
              "      <td>79927</td>\n",
              "      <td>thepopemustdie</td>\n",
              "      <td>The plot is predicated on the Vatican being co...</td>\n",
              "      <td>5624</td>\n",
              "      <td>[{'id': 716, 'name': 'vatican'}, {'id': 717, '...</td>\n",
              "      <td>vatican;pope;priest;alternative comedy</td>\n",
              "    </tr>\n",
              "    <tr>\n",
              "      <th>30538</th>\n",
              "      <td>44845</td>\n",
              "      <td>413421</td>\n",
              "      <td>phillauri</td>\n",
              "      <td>A young man Kanan (Suraj Sharma) returns to In...</td>\n",
              "      <td>5432</td>\n",
              "      <td>[{'id': 4671, 'name': 'bad luck'}, {'id': 1315...</td>\n",
              "      <td>bad luck;spirit</td>\n",
              "    </tr>\n",
              "  </tbody>\n",
              "</table>\n",
              "<p>1372 rows × 7 columns</p>\n",
              "</div>"
            ],
            "text/plain": [
              "       Unnamed: 0  ...                                             kwords\n",
              "3               4  ...  baby;midlife crisis;confidence;aging;daughter;...\n",
              "8              10  ...  white house;usa president;new love;widower;wil...\n",
              "16             19  ...  brother brother relationship;subway;new york c...\n",
              "51             58  ...  cupboard;games;puppet;parallel world;toy comes...\n",
              "79             90  ...                               vampire;half vampire\n",
              "...           ...  ...                                                ...\n",
              "30087       43972  ...                                             cyborg\n",
              "30148       44126  ...                          philippines;destiny;pinoy\n",
              "30195       44199  ...                                         ice hockey\n",
              "30536       44838  ...             vatican;pope;priest;alternative comedy\n",
              "30538       44845  ...                                    bad luck;spirit\n",
              "\n",
              "[1372 rows x 7 columns]"
            ]
          },
          "metadata": {
            "tags": []
          },
          "execution_count": 43
        }
      ]
    },
    {
      "cell_type": "code",
      "metadata": {
        "id": "l_eqcAEGcAMU",
        "colab_type": "code",
        "colab": {
          "base_uri": "https://localhost:8080/",
          "height": 136
        },
        "outputId": "d0edd77e-17fc-4420-d7e3-e5480bbbb695"
      },
      "source": [
        "vector = CountVectorizer(tokenizer=lambda x: x.split(\";\"))\n",
        "tags = vector.fit_transform(metadata['kwords'])\n",
        "print(tags.shape[1])\n",
        "tag = vector.get_feature_names()\n",
        "print(tag[:5])\n",
        "n = tags.sum(axis=0).A1\n",
        "result = dict(zip(tag,n))\n",
        "# print(result)\n",
        "res = pd.DataFrame(list(result.items()),columns=['tag','count'])\n",
        "res = res.sort_values(['count'],ascending=False)\n",
        "tag_c = res['count'].values\n",
        "real_tags = res.values[:500]\n",
        "metadata = metadata.drop(['keywords'],axis=1)\n",
        "# for i in real_tags:\n",
        "#   metadata[i[0]] = metadata.kwords.apply(lambda x: 1 if i[0] in x else 0) \n",
        "print(real_tags[:5])"
      ],
      "execution_count": 44,
      "outputs": [
        {
          "output_type": "stream",
          "text": [
            "4325\n",
            "['17th century', '18th century', '1910s', '1930s', '1940s']\n",
            "[['murder' 65]\n",
            " ['independent film' 56]\n",
            " ['duringcreditsstinger' 54]\n",
            " ['woman director' 53]\n",
            " ['based on novel' 51]]\n"
          ],
          "name": "stdout"
        }
      ]
    },
    {
      "cell_type": "code",
      "metadata": {
        "id": "I_xZy6pjcVSm",
        "colab_type": "code",
        "colab": {
          "base_uri": "https://localhost:8080/",
          "height": 279
        },
        "outputId": "c51acaba-1ea1-442d-dea2-3b6449ccd884"
      },
      "source": [
        "plt.plot(tag_c[:500])\n",
        "plt.xlabel(\"Tag number\")\n",
        "plt.ylabel(\"Tag frequency\")\n",
        "plt.show()"
      ],
      "execution_count": 45,
      "outputs": [
        {
          "output_type": "display_data",
          "data": {
            "image/png": "[encoded data removed]",
            "text/plain": [
              "<Figure size 432x288 with 1 Axes>"
            ]
          },
          "metadata": {
            "tags": []
          }
        }
      ]
    },
    {
      "cell_type": "code",
      "metadata": {
        "id": "jkIbvsrPcf9W",
        "colab_type": "code",
        "colab": {
          "base_uri": "https://localhost:8080/",
          "height": 501
        },
        "outputId": "53c740bc-04e4-4b1d-adc1-7bda71a291c8"
      },
      "source": [
        "import seaborn as sns\n",
        "metadata['tag_count'] = metadata.kwords.apply(lambda x: len(x.split(';')))\n",
        "print(metadata.tag_count.sort_values(ascending=False))\n",
        "sns.countplot(x=metadata['tag_count'],data=metadata)"
      ],
      "execution_count": 46,
      "outputs": [
        {
          "output_type": "stream",
          "text": [
            "2752     81\n",
            "1574     31\n",
            "4163     30\n",
            "19353    29\n",
            "6111     29\n",
            "         ..\n",
            "6416      1\n",
            "6505      1\n",
            "26877     1\n",
            "6674      1\n",
            "14106     1\n",
            "Name: tag_count, Length: 1372, dtype: int64\n"
          ],
          "name": "stdout"
        },
        {
          "output_type": "execute_result",
          "data": {
            "text/plain": [
              "<matplotlib.axes._subplots.AxesSubplot at 0x7f34f1d9c588>"
            ]
          },
          "metadata": {
            "tags": []
          },
          "execution_count": 46
        },
        {
          "output_type": "display_data",
          "data": {
            "image/png": "[encoded data removed]",
            "text/plain": [
              "<Figure size 432x288 with 1 Axes>"
            ]
          },
          "metadata": {
            "tags": []
          }
        }
      ]
    },
    {
      "cell_type": "code",
      "metadata": {
        "id": "MXo1XR6-oGFi",
        "colab_type": "code",
        "colab": {
          "base_uri": "https://localhost:8080/",
          "height": 419
        },
        "outputId": "2556a0e3-887c-41f2-b1ee-e752fa6f274a"
      },
      "source": [
        "test = metadata[metadata['length'] > 7700]\n",
        "metadata = metadata[metadata['length'] < 7700]\n",
        "metadata"
      ],
      "execution_count": 47,
      "outputs": [
        {
          "output_type": "execute_result",
          "data": {
            "text/html": [
              "<div>\n",
              "<style scoped>\n",
              "    .dataframe tbody tr th:only-of-type {\n",
              "        vertical-align: middle;\n",
              "    }\n",
              "\n",
              "    .dataframe tbody tr th {\n",
              "        vertical-align: top;\n",
              "    }\n",
              "\n",
              "    .dataframe thead th {\n",
              "        text-align: right;\n",
              "    }\n",
              "</style>\n",
              "<table border=\"1\" class=\"dataframe\">\n",
              "  <thead>\n",
              "    <tr style=\"text-align: right;\">\n",
              "      <th></th>\n",
              "      <th>Unnamed: 0</th>\n",
              "      <th>id</th>\n",
              "      <th>title</th>\n",
              "      <th>Plot</th>\n",
              "      <th>length</th>\n",
              "      <th>kwords</th>\n",
              "      <th>tag_count</th>\n",
              "    </tr>\n",
              "  </thead>\n",
              "  <tbody>\n",
              "    <tr>\n",
              "      <th>3</th>\n",
              "      <td>4</td>\n",
              "      <td>11862</td>\n",
              "      <td>fatherofthebridepartii</td>\n",
              "      <td>The film begins five years after the events of...</td>\n",
              "      <td>5474</td>\n",
              "      <td>baby;midlife crisis;confidence;aging;daughter;...</td>\n",
              "      <td>9</td>\n",
              "    </tr>\n",
              "    <tr>\n",
              "      <th>8</th>\n",
              "      <td>10</td>\n",
              "      <td>9087</td>\n",
              "      <td>theamericanpresident</td>\n",
              "      <td>Popular Democratic President Andrew Shepherd i...</td>\n",
              "      <td>5621</td>\n",
              "      <td>white house;usa president;new love;widower;wil...</td>\n",
              "      <td>5</td>\n",
              "    </tr>\n",
              "    <tr>\n",
              "      <th>16</th>\n",
              "      <td>19</td>\n",
              "      <td>11517</td>\n",
              "      <td>moneytrain</td>\n",
              "      <td>On Christmas, we meet foster brothers John and...</td>\n",
              "      <td>6768</td>\n",
              "      <td>brother brother relationship;subway;new york c...</td>\n",
              "      <td>5</td>\n",
              "    </tr>\n",
              "    <tr>\n",
              "      <th>79</th>\n",
              "      <td>90</td>\n",
              "      <td>12158</td>\n",
              "      <td>vampireinbrooklyn</td>\n",
              "      <td>An abandoned ship crashes into a dockyard in B...</td>\n",
              "      <td>6581</td>\n",
              "      <td>vampire;half vampire</td>\n",
              "      <td>2</td>\n",
              "    </tr>\n",
              "    <tr>\n",
              "      <th>128</th>\n",
              "      <td>152</td>\n",
              "      <td>8839</td>\n",
              "      <td>casper</td>\n",
              "      <td>In the town of Friendship, Maine, two young bo...</td>\n",
              "      <td>5620</td>\n",
              "      <td>halloween;friendship;supernatural;afterlife;fr...</td>\n",
              "      <td>12</td>\n",
              "    </tr>\n",
              "    <tr>\n",
              "      <th>...</th>\n",
              "      <td>...</td>\n",
              "      <td>...</td>\n",
              "      <td>...</td>\n",
              "      <td>...</td>\n",
              "      <td>...</td>\n",
              "      <td>...</td>\n",
              "      <td>...</td>\n",
              "    </tr>\n",
              "    <tr>\n",
              "      <th>30087</th>\n",
              "      <td>43972</td>\n",
              "      <td>24230</td>\n",
              "      <td>nemesis</td>\n",
              "      <td>In the near future, illegal androids have beco...</td>\n",
              "      <td>5252</td>\n",
              "      <td>cyborg</td>\n",
              "      <td>1</td>\n",
              "    </tr>\n",
              "    <tr>\n",
              "      <th>30148</th>\n",
              "      <td>44126</td>\n",
              "      <td>302104</td>\n",
              "      <td>thatthingcalledtadhana</td>\n",
              "      <td>The film starts at an airport in Rome where Ma...</td>\n",
              "      <td>6086</td>\n",
              "      <td>philippines;destiny;pinoy</td>\n",
              "      <td>3</td>\n",
              "    </tr>\n",
              "    <tr>\n",
              "      <th>30195</th>\n",
              "      <td>44199</td>\n",
              "      <td>336890</td>\n",
              "      <td>goonlastoftheenforcers</td>\n",
              "      <td>During a pro hockey lockout, Doug \"The Thug\" G...</td>\n",
              "      <td>5952</td>\n",
              "      <td>ice hockey</td>\n",
              "      <td>1</td>\n",
              "    </tr>\n",
              "    <tr>\n",
              "      <th>30536</th>\n",
              "      <td>44838</td>\n",
              "      <td>79927</td>\n",
              "      <td>thepopemustdie</td>\n",
              "      <td>The plot is predicated on the Vatican being co...</td>\n",
              "      <td>5624</td>\n",
              "      <td>vatican;pope;priest;alternative comedy</td>\n",
              "      <td>4</td>\n",
              "    </tr>\n",
              "    <tr>\n",
              "      <th>30538</th>\n",
              "      <td>44845</td>\n",
              "      <td>413421</td>\n",
              "      <td>phillauri</td>\n",
              "      <td>A young man Kanan (Suraj Sharma) returns to In...</td>\n",
              "      <td>5432</td>\n",
              "      <td>bad luck;spirit</td>\n",
              "      <td>2</td>\n",
              "    </tr>\n",
              "  </tbody>\n",
              "</table>\n",
              "<p>1209 rows × 7 columns</p>\n",
              "</div>"
            ],
            "text/plain": [
              "       Unnamed: 0  ...  tag_count\n",
              "3               4  ...          9\n",
              "8              10  ...          5\n",
              "16             19  ...          5\n",
              "79             90  ...          2\n",
              "128           152  ...         12\n",
              "...           ...  ...        ...\n",
              "30087       43972  ...          1\n",
              "30148       44126  ...          3\n",
              "30195       44199  ...          1\n",
              "30536       44838  ...          4\n",
              "30538       44845  ...          2\n",
              "\n",
              "[1209 rows x 7 columns]"
            ]
          },
          "metadata": {
            "tags": []
          },
          "execution_count": 47
        }
      ]
    },
    {
      "cell_type": "code",
      "metadata": {
        "id": "34wzyb7Bfwn0",
        "colab_type": "code",
        "colab": {}
      },
      "source": [
        "movies = metadata.title.values\n",
        "plots_ = metadata.Plot.values\n",
        "docs = metadata.Plot\n",
        "ids = metadata.id.values\n",
        "kwords = metadata.kwords.values\n",
        "\n",
        "movies_t = test.title.values\n",
        "plots_t = test.Plot.values\n",
        "docs_t = test.Plot\n",
        "ids_t = test.id.values\n",
        "kwords_t = test.kwords.values"
      ],
      "execution_count": 0,
      "outputs": []
    },
    {
      "cell_type": "code",
      "metadata": {
        "id": "xJOqQDXynV1e",
        "colab_type": "code",
        "colab": {
          "base_uri": "https://localhost:8080/",
          "height": 51
        },
        "outputId": "ac349e40-9c25-43dc-a8ed-6b5505845657"
      },
      "source": [
        "#load a set of stop words\n",
        "names=get_stop_words(directory+\"stop.txt\",True)\n",
        "surnames=get_stop_words(directory+\"us.txt\",False)\n",
        "my_stop_words = text.ENGLISH_STOP_WORDS.union(names)\n",
        "my_stop_words = text.ENGLISH_STOP_WORDS.union(surnames)"
      ],
      "execution_count": 49,
      "outputs": [
        {
          "output_type": "stream",
          "text": [
            "5631\n",
            "88799\n"
          ],
          "name": "stdout"
        }
      ]
    },
    {
      "cell_type": "code",
      "metadata": {
        "id": "ZQt2isXn8EMv",
        "colab_type": "code",
        "colab": {
          "base_uri": "https://localhost:8080/",
          "height": 111
        },
        "outputId": "f8b965ed-64c2-4bd4-dcd8-5e23c6d85912"
      },
      "source": [
        "metadata[:2]"
      ],
      "execution_count": 50,
      "outputs": [
        {
          "output_type": "execute_result",
          "data": {
            "text/html": [
              "<div>\n",
              "<style scoped>\n",
              "    .dataframe tbody tr th:only-of-type {\n",
              "        vertical-align: middle;\n",
              "    }\n",
              "\n",
              "    .dataframe tbody tr th {\n",
              "        vertical-align: top;\n",
              "    }\n",
              "\n",
              "    .dataframe thead th {\n",
              "        text-align: right;\n",
              "    }\n",
              "</style>\n",
              "<table border=\"1\" class=\"dataframe\">\n",
              "  <thead>\n",
              "    <tr style=\"text-align: right;\">\n",
              "      <th></th>\n",
              "      <th>Unnamed: 0</th>\n",
              "      <th>id</th>\n",
              "      <th>title</th>\n",
              "      <th>Plot</th>\n",
              "      <th>length</th>\n",
              "      <th>kwords</th>\n",
              "      <th>tag_count</th>\n",
              "    </tr>\n",
              "  </thead>\n",
              "  <tbody>\n",
              "    <tr>\n",
              "      <th>3</th>\n",
              "      <td>4</td>\n",
              "      <td>11862</td>\n",
              "      <td>fatherofthebridepartii</td>\n",
              "      <td>The film begins five years after the events of...</td>\n",
              "      <td>5474</td>\n",
              "      <td>baby;midlife crisis;confidence;aging;daughter;...</td>\n",
              "      <td>9</td>\n",
              "    </tr>\n",
              "    <tr>\n",
              "      <th>8</th>\n",
              "      <td>10</td>\n",
              "      <td>9087</td>\n",
              "      <td>theamericanpresident</td>\n",
              "      <td>Popular Democratic President Andrew Shepherd i...</td>\n",
              "      <td>5621</td>\n",
              "      <td>white house;usa president;new love;widower;wil...</td>\n",
              "      <td>5</td>\n",
              "    </tr>\n",
              "  </tbody>\n",
              "</table>\n",
              "</div>"
            ],
            "text/plain": [
              "   Unnamed: 0  ...  tag_count\n",
              "3           4  ...          9\n",
              "8          10  ...          5\n",
              "\n",
              "[2 rows x 7 columns]"
            ]
          },
          "metadata": {
            "tags": []
          },
          "execution_count": 50
        }
      ]
    },
    {
      "cell_type": "code",
      "metadata": {
        "id": "cCTAb5elZcyC",
        "colab_type": "code",
        "colab": {}
      },
      "source": [
        "real_tags[0] = [real_tags[0][0], real_tags[0][1]]\n",
        "for tag in range(len(real_tags)):\n",
        "  if type(real_tags[tag][0]) != str:\n",
        "    real_tags[tag] = real_tags[tag][0]\n",
        "  # print(tag[0], type(tag[0]))"
      ],
      "execution_count": 0,
      "outputs": []
    },
    {
      "cell_type": "code",
      "metadata": {
        "id": "LCoDheQm2863",
        "colab_type": "code",
        "colab": {
          "base_uri": "https://localhost:8080/",
          "height": 221
        },
        "outputId": "1294c5f2-5ceb-4d4b-8375-266d6cdfa6c9"
      },
      "source": [
        "from sklearn.feature_extraction.text import TfidfVectorizer \n",
        "# settings for count vectorizer\n",
        "# tfidf_vectorizer=TfidfVectorizer(use_idf=True,stop_words=my_stop_words,ngram_range=(1,2))\n",
        "tfidf_vectorizer=TfidfVectorizer(use_idf=True,stop_words=my_stop_words,min_df=20,ngram_range=(1,2))\n",
        "tfidf_vectorizer_vectors=tfidf_vectorizer.fit_transform(docs)\n",
        "feature_names = tfidf_vectorizer.get_feature_names()\n",
        "\n",
        "print(feature_names[:5])\n",
        "n_ = tfidf_vectorizer_vectors.sum(axis=0).A1\n",
        "result_ = dict(zip(feature_names,n_))\n",
        "words_probabil = pd.DataFrame(list(result_.items()),columns=['word','count'])\n",
        "print(words_probabil.sort_values(by=['count'])[:10])\n"
      ],
      "execution_count": 52,
      "outputs": [
        {
          "output_type": "stream",
          "text": [
            "['000', '10', '100', '11', '12']\n",
            "            word     count\n",
            "1000   examining  1.338298\n",
            "783   difficulty  1.343298\n",
            "895      earning  1.355485\n",
            "538   completing  1.358949\n",
            "1290         hid  1.367794\n",
            "999     examines  1.371287\n",
            "1554        load  1.371595\n",
            "1611  mastermind  1.375856\n",
            "502       coldly  1.376458\n",
            "2129  remembered  1.382883\n"
          ],
          "name": "stdout"
        }
      ]
    },
    {
      "cell_type": "code",
      "metadata": {
        "id": "qgiKlfjUsMUV",
        "colab_type": "code",
        "colab": {
          "base_uri": "https://localhost:8080/",
          "height": 111
        },
        "outputId": "327ff386-d2cd-45d7-9ffb-0d9f2a953304"
      },
      "source": [
        "metadata[:2]"
      ],
      "execution_count": 53,
      "outputs": [
        {
          "output_type": "execute_result",
          "data": {
            "text/html": [
              "<div>\n",
              "<style scoped>\n",
              "    .dataframe tbody tr th:only-of-type {\n",
              "        vertical-align: middle;\n",
              "    }\n",
              "\n",
              "    .dataframe tbody tr th {\n",
              "        vertical-align: top;\n",
              "    }\n",
              "\n",
              "    .dataframe thead th {\n",
              "        text-align: right;\n",
              "    }\n",
              "</style>\n",
              "<table border=\"1\" class=\"dataframe\">\n",
              "  <thead>\n",
              "    <tr style=\"text-align: right;\">\n",
              "      <th></th>\n",
              "      <th>Unnamed: 0</th>\n",
              "      <th>id</th>\n",
              "      <th>title</th>\n",
              "      <th>Plot</th>\n",
              "      <th>length</th>\n",
              "      <th>kwords</th>\n",
              "      <th>tag_count</th>\n",
              "    </tr>\n",
              "  </thead>\n",
              "  <tbody>\n",
              "    <tr>\n",
              "      <th>3</th>\n",
              "      <td>4</td>\n",
              "      <td>11862</td>\n",
              "      <td>fatherofthebridepartii</td>\n",
              "      <td>The film begins five years after the events of...</td>\n",
              "      <td>5474</td>\n",
              "      <td>baby;midlife crisis;confidence;aging;daughter;...</td>\n",
              "      <td>9</td>\n",
              "    </tr>\n",
              "    <tr>\n",
              "      <th>8</th>\n",
              "      <td>10</td>\n",
              "      <td>9087</td>\n",
              "      <td>theamericanpresident</td>\n",
              "      <td>Popular Democratic President Andrew Shepherd i...</td>\n",
              "      <td>5621</td>\n",
              "      <td>white house;usa president;new love;widower;wil...</td>\n",
              "      <td>5</td>\n",
              "    </tr>\n",
              "  </tbody>\n",
              "</table>\n",
              "</div>"
            ],
            "text/plain": [
              "   Unnamed: 0  ...  tag_count\n",
              "3           4  ...          9\n",
              "8          10  ...          5\n",
              "\n",
              "[2 rows x 7 columns]"
            ]
          },
          "metadata": {
            "tags": []
          },
          "execution_count": 53
        }
      ]
    },
    {
      "cell_type": "code",
      "metadata": {
        "id": "mVG6gDHn6teL",
        "colab_type": "code",
        "colab": {}
      },
      "source": [
        "# # potential_kwords = []\n",
        "# # kwords_prob = {}\n",
        "# top_keywords = 30\n",
        "# # probability = pd.DataFrame(columns=['tag','keyword','probability','pair'])\n",
        "# probability = {}\n",
        "# leng = tfidf_vectorizer_vectors.shape[0]\n",
        "# for i in range(leng):\n",
        "# #   vec = tfidf_vectorizer_vectors[i]\n",
        "#   first_vector_tfidfvectorizer=tfidf_vectorizer_vectors[i]\n",
        "# # place tf-idf values in a pandas data frame\n",
        "#   df = pd.DataFrame(first_vector_tfidfvectorizer.T.todense(), index=feature_names, columns=[\"tfidf\"])\n",
        "#   # df = pd.DataFrame([[vec.T.todense(), feature_names]], columns=[\"tfidf\",\"tag\"])\n",
        "#   # df = pd.DataFrame([[vec.T.todense(), tfidf_vectorizer.get_feature_names()]], columns=[\"tfidf\",\"tag\"])\n",
        "#   # print(df.sort_values(by=[\"tfidf\"],ascending=False)[:20])\n",
        "#   vals = df.sort_values(by=[\"tfidf\"],ascending=False).index\n",
        "#   leng_ = len(vals)\n",
        "#   if leng_ <= top_keywords:\n",
        "#     top_keywords = leng_\n",
        "#   vals = vals[:top_keywords]\n",
        "#   # for val in vals:\n",
        "#   for tag in kwords[i].split(\",\"):\n",
        "#     if tag in vals:\n",
        "#       # vals_without = \n",
        "#       for val in vals:\n",
        "#         # if val in kwords_prob:\n",
        "#         #   kwords_prob[val] += 1\n",
        "#         # else:\n",
        "#         #   kwords_prob[val] = 1\n",
        "#         # if (probability['pair'] == tag+\":\"+val).any():\n",
        "#         if tag+\":\"+val in probability:\n",
        "#           # probability[probability['pair'] == tag[0]+\":\"+val]['probability'] += 1\n",
        "#           probability[tag+\":\"+val] += 1\n",
        "#         else:\n",
        "#           # probability = probability.append({'tag': tag, 'keyword': val, 'probability': 1,'probabil_word': 1, 'pair':tag+\":\"+val}, ignore_index=True)\n",
        "#           probability[tag+\":\"+val] = 1\n",
        "\n",
        "#   metadata.loc[metadata['id'] == ids[i],'potential_kwords'] = ','.join(vals)"
      ],
      "execution_count": 0,
      "outputs": []
    },
    {
      "cell_type": "code",
      "metadata": {
        "id": "b0TP8TyWx0Uq",
        "colab_type": "code",
        "colab": {}
      },
      "source": [
        "top_keywords = 40\n",
        "c = 0\n",
        "probability = pd.DataFrame(columns=['tag','keyword','probability'])\n",
        "leng = tfidf_vectorizer_vectors.shape[0]\n",
        "for i in range(leng):\n",
        "  first_vector_tfidfvectorizer=tfidf_vectorizer_vectors[i]\n",
        "# place tf-idf values in a pandas data frame\n",
        "  df = pd.DataFrame(first_vector_tfidfvectorizer.T.todense(), index=feature_names, columns=[\"tfidf\"])\n",
        "  vals = df.sort_values(by=[\"tfidf\"],ascending=False).index\n",
        "  leng_ = len(vals)\n",
        "  if leng_ <= top_keywords:\n",
        "    top_keywords = leng_\n",
        "  vals = vals[:top_keywords]\n",
        "  for tag in kwords[i].split(\";\"):\n",
        "    # if tag in vals: \n",
        "    for val in vals:\n",
        "      c += 1\n",
        "      if ((probability['tag'] == tag) & (probability['keyword'] == val)).any():\n",
        "        probability.loc[(probability['tag'] == tag) & (probability['keyword'] == val),'probability'] += 1\n",
        "      else:\n",
        "        probability = probability.append({'tag': tag, 'keyword': val, 'probability': 1}, ignore_index=True)\n",
        "  metadata.loc[metadata['id'] == ids[i],'potential_kwords'] = ','.join(vals)"
      ],
      "execution_count": 0,
      "outputs": []
    },
    {
      "cell_type": "code",
      "metadata": {
        "id": "dcQnLb7OcvH7",
        "colab_type": "code",
        "colab": {
          "base_uri": "https://localhost:8080/",
          "height": 122
        },
        "outputId": "df86db57-005f-4fee-d926-70cb0c60a78f"
      },
      "source": [
        "from google.colab import drive\n",
        "drive.mount('/content/drive')"
      ],
      "execution_count": 1,
      "outputs": [
        {
          "output_type": "stream",
          "text": [
            "Go to this URL in a browser: https://accounts.google.com/o/oauth2/auth?client_id=947318989803-6bn6qk8qdgf4n4g3pfee6491hc0brc4i.apps.googleusercontent.com&redirect_uri=urn%3aietf%3awg%3aoauth%3a2.0%3aoob&response_type=code&scope=email%20https%3a%2f%2fwww.googleapis.com%2fauth%2fdocs.test%20https%3a%2f%2fwww.googleapis.com%2fauth%2fdrive%20https%3a%2f%2fwww.googleapis.com%2fauth%2fdrive.photos.readonly%20https%3a%2f%2fwww.googleapis.com%2fauth%2fpeopleapi.readonly\n",
            "\n",
            "Enter your authorization code:\n",
            "··········\n",
            "Mounted at /content/drive\n"
          ],
          "name": "stdout"
        }
      ]
    },
    {
      "cell_type": "code",
      "metadata": {
        "colab_type": "code",
        "id": "3vR0XGWFx2gi",
        "colab": {}
      },
      "source": [
        "probability[:2]"
      ],
      "execution_count": 0,
      "outputs": []
    },
    {
      "cell_type": "code",
      "metadata": {
        "id": "k7P4EjzghcnT",
        "colab_type": "code",
        "colab": {}
      },
      "source": [
        "probability = probability.loc[probability['keyword'] != probability['tag']]\n",
        "probability[:2]"
      ],
      "execution_count": 0,
      "outputs": []
    },
    {
      "cell_type": "code",
      "metadata": {
        "id": "hyw-A8zaSLyx",
        "colab_type": "code",
        "colab": {}
      },
      "source": [
        "tfidf_vectors=tfidf_vectorizer.fit_transform(docs_t)\n",
        "feature_names_t = tfidf_vectorizer.get_feature_names()\n"
      ],
      "execution_count": 0,
      "outputs": []
    },
    {
      "cell_type": "code",
      "metadata": {
        "id": "FO4NvHGFS9jN",
        "colab_type": "code",
        "colab": {}
      },
      "source": [
        "from time import perf_counter \n",
        "from sklearn.metrics import pairwise\n",
        "popping = 0\n",
        "inner = 0\n",
        "outer = 0\n",
        "start_all = perf_counter()\n",
        "tags = 0\n",
        "cooc_tags_list = []\n",
        "nns_tags_list= []\n",
        "# one_tag = 0\n",
        "# print(test_indexes)\n",
        "test_indexes = [i for i in range(test.shape[0])]\n",
        "tags_in_table = list(set(probability.tag.values))\n",
        "for j in test_indexes:\n",
        "  probability_copy = probability.copy()\n",
        "  print(\"\\n\",movies_t[j])\n",
        "  print(plots_t[j][:100])\n",
        "  print(kwords_t[j])\n",
        "  first_vector=tfidf_vectors[j]\n",
        "  # start_outer = perf_counter()\n",
        "  sorted_items=sort_coo(first_vector.tocoo())\n",
        "  keywords=extract_topn_from_vector(feature_names_t,sorted_items,20)\n",
        "  # end_outer = perf_counter()\n",
        "  # outer += end_outer - start_outer\n",
        "  # print(\"out\", end_outer - start_outer)\n",
        "  potential = {}\n",
        "  for tag in tags_in_table:\n",
        "    # start_pop = perf_counter()\n",
        "    tag_rows = probability_copy[probability_copy['tag'] == tag]\n",
        "    probability_copy = probability_copy[probability_copy['tag'] != tag]\n",
        "    # end_pop = perf_counter()\n",
        "    # print('pop ', end_pop - start_pop)\n",
        "    # popping += end_pop - start_pop\n",
        "    for keyw in keywords:\n",
        "      # start_inner = perf_counter()\n",
        "      val = tag_rows[tag_rows['keyword'] == keyw]['probability']\n",
        "      if not val.empty:\n",
        "        if tag in potential:\n",
        "          potential[tag] += val.values[0]/words_probabil[words_probabil['word'] == keyw]['count'].values[0]\n",
        "        else:\n",
        "          potential[tag] = val.values[0]/words_probabil[words_probabil['word'] == keyw]['count'].values[0]\n",
        "      # end_inner = perf_counter()\n",
        "      # print(\"in \", end_inner - start_inner)\n",
        "      # inner += end_inner - start_inner\n",
        "  # print('inner',inner,'outer',outer,'popping',popping)\n",
        "  pot = sorted(potential.items(), key=lambda item: item[1],reverse=True)[:30]\n",
        "  pot = [[i[0],i[1]] for i in pot]\n",
        "  # print(pot)\n",
        "  j_ = kwords_t[j].split(\",\")\n",
        "  for i in pot[:15]:\n",
        "    if i[0] in j_:\n",
        "      tags += 1\n",
        "      # print(i[0])\n",
        "  # print(tags)\n",
        "  cooc_tags_list.append(tags)\n",
        "  # if tags > 0:\n",
        "    # one_tag += 1 \n",
        "  tags = 0\n",
        "  for tag in range(len(pot)):\n",
        "    keywords=extract_topn_from_vector(feature_names_t,sorted_items,200)\n",
        "    vector_kwords = (probability.loc[(probability['tag'] == pot[tag][0]) & (probability['keyword'].isin(keywords))]).sort_values(['keyword'],ascending=False)\n",
        "    vector_kwords.probability = vector_kwords.probability.apply(lambda x: x/words_probabil[words_probabil['word'] == keyw]['count'].values[0])\n",
        "    keywords = pd.DataFrame(keywords.items(),columns=['keyword','probability'])\n",
        "    keywords = (keywords.loc[keywords['keyword'].isin(vector_kwords.keyword.values)]).sort_values(['keyword'],ascending=False)\n",
        "    vector_kwords = vector_kwords.probability.values\n",
        "    keywords = keywords.probability.values\n",
        "    # print('v ',vector_kwords)\n",
        "    # print('k ',keywords)\n",
        "    result = 1 - spatial.distance.cosine(np.array(keywords, dtype='float32'), np.array(vector_kwords, dtype='float32'))\n",
        "    # result = pairwise.cosine_similarity(keywords, vector_kwords)\n",
        "    # print(result)\n",
        "    pot[tag][1] = result\n",
        "    pot.sort(key=lambda x : x[1],reverse=True)\n",
        "  for i in pot[:15]:\n",
        "    if i[0] in j_:\n",
        "      tags += 1\n",
        "  nns_tags_list.append(tags)\n",
        "  # if tags > 0:\n",
        "    # one_tag += 1 \n",
        "  tags = 0\n",
        "  print(pot)\n",
        "end_all = perf_counter()\n",
        "print(\"time\",end_all-start_all)\n",
        "      # print(i[0])\n"
      ],
      "execution_count": 0,
      "outputs": []
    },
    {
      "cell_type": "code",
      "metadata": {
        "id": "Vom1z0TxjwM7",
        "colab_type": "code",
        "colab": {}
      },
      "source": [
        "# tags = 0\n",
        "# tags_list = []\n",
        "# one_tag = 0\n",
        "# test_indexes = test.index.values\n",
        "# tags_in_table = set(probability.tag.values)\n",
        "# for j in test_indexes:\n",
        "#   # print(j)\n",
        "#   # print(\"\\n\",movies[j])\n",
        "#   # print(plots_[j])\n",
        "#   # print(kwords[j])\n",
        "#   first_vector=tfidf_vectors[j]\n",
        "#   sorted_items=sort_coo(first_vector.tocoo())\n",
        "#   keywords=extract_topn_from_vector(feature_names_t,sorted_items,20)\n",
        "#   potential = {}\n",
        "#   for tag in tags_in_table:\n",
        "#     for keyw in keywords:\n",
        "#       val = probability[(probability['tag'] == tag) & (probability['keyword'] == keyw)]['probability']\n",
        "#       if not val.empty:\n",
        "#         if tag in potential:\n",
        "#           potential[tag] += val.values[0]/words_probabil[words_probabil['word'] == keyw]['count'].values[0]\n",
        "#         else:\n",
        "#           potential[tag] = val.values[0]/words_probabil[words_probabil['word'] == keyw]['count'].values[0]\n",
        "#   pot = sorted(potential.items(), key=lambda item: item[1],reverse=True)[:30]\n",
        "#   # print(pot)\n",
        "#   j_ = kwords[j].split(\",\")\n",
        "#   for i in pot:\n",
        "#     if i[0] in j_:\n",
        "#       tags += 1\n",
        "#       # print(i[0])\n",
        "#   tags_list.append(tags)\n",
        "#   if tags > 0:\n",
        "#     one_tag += 1 \n",
        "#     tags = 0\n",
        "#   for tag in pot:\n",
        "#     print(first_vector_tfidfvectorizer)\n",
        "#     first_vector_tfidfvectorizer = [i[0] for i in first_vector_tfidfvectorizer]\n",
        "#     vector_kwords = probability.loc[(probability['tag'] == tag[0]) & (probability['keyword'].isin(first_vector_tfidfvectorizer))]\n",
        "#     print(vector_kwords)\n",
        "#     vector_kwords = vector_kwords.probability.values\n",
        "#     result = 1 - spatial.distance.cosine(first_vector_tfidfvectorizer, vector_kwords)\n"
      ],
      "execution_count": 0,
      "outputs": []
    },
    {
      "cell_type": "code",
      "metadata": {
        "id": "gE-GS2G8Z-aE",
        "colab_type": "code",
        "colab": {}
      },
      "source": [
        "potential"
      ],
      "execution_count": 0,
      "outputs": []
    },
    {
      "cell_type": "code",
      "metadata": {
        "id": "Eb9wbsI1YeMC",
        "colab_type": "code",
        "colab": {}
      },
      "source": [
        "one_tag"
      ],
      "execution_count": 0,
      "outputs": []
    },
    {
      "cell_type": "code",
      "metadata": {
        "id": "lkk7UcPlAqiJ",
        "colab_type": "code",
        "colab": {}
      },
      "source": [
        "# pip freeze > requirements.txt\n",
        "# for tag in real_tags:\n",
        "  # print(tag[1])"
      ],
      "execution_count": 0,
      "outputs": []
    },
    {
      "cell_type": "code",
      "metadata": {
        "id": "8w0VN9bDjw4V",
        "colab_type": "code",
        "colab": {}
      },
      "source": [
        "probability"
      ],
      "execution_count": 0,
      "outputs": []
    },
    {
      "cell_type": "code",
      "metadata": {
        "id": "0uyBoWLEtnTO",
        "colab_type": "code",
        "colab": {}
      },
      "source": [
        "all_keywords = metadata.kwords\n",
        "# print(all_keywords)\n",
        "all_keywords = [j for i in all_keywords for j in i]\n",
        "set_k = list(set(all_keywords))\n",
        "count_k = [[i, all_keywords.count(i)] for i in set_k]\n",
        "print(count_k)"
      ],
      "execution_count": 0,
      "outputs": []
    },
    {
      "cell_type": "code",
      "metadata": {
        "id": "0bPLEwE0wNYh",
        "colab_type": "code",
        "colab": {}
      },
      "source": [
        "count_k.sort(key=lambda x: x[1],reverse=True)\n",
        "print(count_k)"
      ],
      "execution_count": 0,
      "outputs": []
    },
    {
      "cell_type": "code",
      "metadata": {
        "id": "eHkTSRGewrVk",
        "colab_type": "code",
        "colab": {}
      },
      "source": [
        "print(len(all_keywords))\n",
        "print(len(set_k))\n",
        "print(len([i for i in count_k if i[1] <= 5]))"
      ],
      "execution_count": 0,
      "outputs": []
    }
  ]
}